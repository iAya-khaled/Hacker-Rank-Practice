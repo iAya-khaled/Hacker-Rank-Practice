{
 "cells": [
  {
   "cell_type": "markdown",
   "id": "36677444",
   "metadata": {},
   "source": [
    "## Q1) Revising the Select Query I"
   ]
  },
  {
   "cell_type": "markdown",
   "id": "c7161c95",
   "metadata": {},
   "source": [
    "```SELECT *\n",
    "FROM CITY\n",
    "WHERE population > 100000 and CountryCode = 'USA'``` "
   ]
  },
  {
   "cell_type": "markdown",
   "id": "d1e51188",
   "metadata": {},
   "source": [
    "## Q2) Revising the Select Query II\n",
    "\n",
    "```SELECT NAME \n",
    "FROM CITY\n",
    "WHERE POPULATION > 120000 \n",
    "and CountryCode = 'USA'```"
   ]
  },
  {
   "cell_type": "markdown",
   "id": "8c509cf4",
   "metadata": {},
   "source": [
    "## Q3) Select All\n",
    "```SELECT * \n",
    "FROM CITY```"
   ]
  },
  {
   "cell_type": "markdown",
   "id": "3b2eb7cf",
   "metadata": {},
   "source": [
    "## Q4) Select By ID\n",
    "\n",
    "```SELECT * \n",
    "FROM CITY \n",
    "WHERE Id = 1661```"
   ]
  },
  {
   "cell_type": "markdown",
   "id": "e4fb606d",
   "metadata": {},
   "source": [
    "## Q5) Japanese Cities' Attributes \n",
    "```SELECT *\n",
    "FROM CITY\n",
    "WHERE COUNTRYCODE = 'JPN'```"
   ]
  },
  {
   "cell_type": "markdown",
   "id": "4c061ae8",
   "metadata": {},
   "source": [
    "## Q6) Japanese Cities' Names\n",
    "```SELECT NAME\n",
    "FROM CITY\n",
    "WHERE COUNTRYCODE = 'JPN'```"
   ]
  },
  {
   "cell_type": "markdown",
   "id": "f95160d6",
   "metadata": {},
   "source": [
    "## Q7) Weather Observation Station 1\n",
    "\n",
    "```SELECT CITY , STATE\n",
    "FROM STATION```"
   ]
  },
  {
   "cell_type": "markdown",
   "id": "dada31a2",
   "metadata": {},
   "source": [
    "## Q8) Weather Observation Station 3\n",
    "```SELECT DISTINCT CITY\n",
    "FROM STATION\n",
    "WHERE ID % 2 = 0 ```"
   ]
  },
  {
   "cell_type": "markdown",
   "id": "81a0f3f2",
   "metadata": {},
   "source": [
    "## Q8) Weather Observation Station 4\n",
    "```SELECT count(*) - count(DISTINCT CITY)\n",
    "FROM STATION ```"
   ]
  },
  {
   "cell_type": "markdown",
   "id": "427c98b3",
   "metadata": {},
   "source": [
    "## Q9) Weather Observation Station 5\n",
    "```SELECT \n",
    "CITY , length(CITY)\n",
    "FROM STATION \n",
    "ORDER BY length(CITY) ASC , CITY ASC \n",
    "LIMIT 1 ;```\n",
    "\n",
    "```SELECT \n",
    "CITY , length(CITY)\n",
    "FROM STATION \n",
    "ORDER BY length(CITY) DESC , CITY DESC \n",
    "LIMIT 1```"
   ]
  },
  {
   "cell_type": "markdown",
   "id": "7631b6cd",
   "metadata": {},
   "source": [
    "## Q10) Weather Observation Station 6\n",
    "\n",
    "```SELECT \n",
    "distinct CITY \n",
    "FROM STATION\n",
    "WHERE LEFT(CITY,1) IN ('a','e','i','o','u')```"
   ]
  },
  {
   "cell_type": "markdown",
   "id": "ba97a204",
   "metadata": {},
   "source": [
    "## Q11) Weather Observation Station 7\n",
    "\n",
    "```SELECT \n",
    "distinct CITY \n",
    "FROM STATION\n",
    "WHERE RIGHT(CITY,1) IN ('a','e','i','o','u')```"
   ]
  },
  {
   "cell_type": "markdown",
   "id": "05cd71e3",
   "metadata": {},
   "source": [
    "## Q12) Weather Observation Station 8\n",
    "\n",
    "``` SELECT \n",
    "distinct CITY \n",
    "FROM STATION\n",
    "WHERE (RIGHT(CITY,1) IN ('a','e','i','o','u')) and (LEFT(CITY,1) IN ('a','e','i','o','u'))```"
   ]
  },
  {
   "cell_type": "markdown",
   "id": "0cd05815",
   "metadata": {},
   "source": [
    "## Q13) Weather Observation Station 9\n",
    "```SELECT DISTINCT CITY\n",
    "FROM STATION\n",
    "WHERE LOWER(LEFT(CITY,1)) not in ('a','e','i','o','u')```"
   ]
  },
  {
   "cell_type": "markdown",
   "id": "825f3dae",
   "metadata": {},
   "source": [
    "## Q14) Weather Observation Station 10\n",
    "```SELECT DISTINCT CITY\n",
    "FROM STATION\n",
    "WHERE LOWER(RIGHT(CITY,1)) not in ('a','e','i','o','u')```"
   ]
  },
  {
   "cell_type": "markdown",
   "id": "1914b10e",
   "metadata": {},
   "source": [
    "## Q15) Weather Observation Station 11\n",
    "\n",
    "```SELECT distinct city\n",
    "FROM STATION\n",
    "WHERE lower(LEFT(CITY,1)) not in ('a','e','i','o','u')\n",
    "or lower(RIGHT(CITY,1)) not in ('a','e','i','o','u')```"
   ]
  },
  {
   "cell_type": "markdown",
   "id": "f9fa01cb",
   "metadata": {},
   "source": [
    "## Q16) Weather Observation Station 12\n",
    "```SELECT distinct city\n",
    "FROM STATION\n",
    "WHERE lower(LEFT(CITY,1)) not in ('a','e','i','o','u')\n",
    "and lower(RIGHT(CITY,1)) not in ('a','e','i','o','u')```"
   ]
  },
  {
   "cell_type": "markdown",
   "id": "cb63ff38",
   "metadata": {},
   "source": [
    "## Q17) Higher Than 75 Marks\n",
    "```SELECT NAME\n",
    "FROM STUDENTS\n",
    "where marks > 75 \n",
    "ORDER BY RIGHT(NAME,3) , id ```"
   ]
  },
  {
   "cell_type": "markdown",
   "id": "39d5c7b1",
   "metadata": {},
   "source": [
    "## Q18) Employee Names\n",
    "\n",
    "```SELECT \n",
    "NAME \n",
    "FROM Employee\n",
    "ORDER BY NAME```"
   ]
  },
  {
   "cell_type": "markdown",
   "id": "bccc8f01",
   "metadata": {},
   "source": [
    "## Q19) Employee Salaries\n",
    "\n",
    "```SELECT name \n",
    "FROM Employee\n",
    "where salary > 2000  and months < 10 \n",
    "ORDER BY employee_id ASC```"
   ]
  },
  {
   "cell_type": "markdown",
   "id": "4e28988b",
   "metadata": {},
   "source": [
    "## Q20 )Population Density Difference\n",
    "```SELECT max(POPULATION) - min(POPULATION)\n",
    "from CITY```"
   ]
  }
 ],
 "metadata": {
  "kernelspec": {
   "display_name": "Python 3 (ipykernel)",
   "language": "python",
   "name": "python3"
  },
  "language_info": {
   "codemirror_mode": {
    "name": "ipython",
    "version": 3
   },
   "file_extension": ".py",
   "mimetype": "text/x-python",
   "name": "python",
   "nbconvert_exporter": "python",
   "pygments_lexer": "ipython3",
   "version": "3.9.12"
  }
 },
 "nbformat": 4,
 "nbformat_minor": 5
}
